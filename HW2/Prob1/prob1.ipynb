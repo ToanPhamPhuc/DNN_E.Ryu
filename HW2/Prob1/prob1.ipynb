{
 "cells": [
  {
   "cell_type": "code",
   "execution_count": 41,
   "metadata": {},
   "outputs": [],
   "source": [
    "import numpy as np"
   ]
  },
  {
   "cell_type": "code",
   "execution_count": 27,
   "metadata": {},
   "outputs": [],
   "source": [
    "N, p = 30, 20\n",
    "np.random.seed(0)\n",
    "X = np.random.randn(N, p)\n",
    "Y = 2 * np.random.randint(2, size = N) - 1 "
   ]
  },
  {
   "cell_type": "code",
   "execution_count": 28,
   "metadata": {},
   "outputs": [],
   "source": [
    "theta = np.zeros(p)"
   ]
  },
  {
   "cell_type": "code",
   "execution_count": 29,
   "metadata": {},
   "outputs": [],
   "source": [
    "epochs = 50\n",
    "learning_rate = 0.01"
   ]
  },
  {
   "cell_type": "code",
   "execution_count": 30,
   "metadata": {},
   "outputs": [],
   "source": [
    "for epoch in range(epochs):\n",
    "    for i in range(N):\n",
    "        xi = X[i]\n",
    "        yi = Y[i]\n",
    "        z = xi * np.dot(theta, xi)\n",
    "        gradient = - yi*xi/(1+np.exp(z))\n",
    "        theta -= learning_rate * gradient"
   ]
  },
  {
   "cell_type": "code",
   "execution_count": 31,
   "metadata": {},
   "outputs": [
    {
     "name": "stdout",
     "output_type": "stream",
     "text": [
      "Final theta: [-4.12687123 -3.46565899 -5.65019992 -0.47485657 -0.77416477 -2.31946696\n",
      " -5.67427725 -6.36489799 -2.28818559 -2.6667096  -1.65053314 -3.02158339\n",
      "  0.52306757 -4.83044173 -1.23128388  1.08602807 -4.40866063 -4.45777464\n",
      " -3.0569033  -0.22081924]\n",
      "Final loss: 3.462442155980545\n",
      "Final accuracy: 0.13333333333333333\n",
      "Final predictions: [0 0 1 1 0 0 0 1 1 1 0 1 1 1 0 1 1 1 1 1 0 1 1 1 0 1 1 1 0 1]\n"
     ]
    }
   ],
   "source": [
    "print(\"Final learned theta:\", theta)\n",
    "print(\"Final loss:\", np.mean(np.log(1 + np.exp(-Y * (X @ theta)))))\n",
    "print(\"Final accuracy:\", np.mean((X @ theta > 0) == Y))\n",
    "print(\"Final predictions:\", (X @ theta > 0).astype(int))"
   ]
  },
  {
   "cell_type": "code",
   "execution_count": 42,
   "metadata": {},
   "outputs": [
    {
     "ename": "AttributeError",
     "evalue": "module 'matplotlib' has no attribute 'get_data_path'",
     "output_type": "error",
     "traceback": [
      "\u001b[1;31m---------------------------------------------------------------------------\u001b[0m",
      "\u001b[1;31mAttributeError\u001b[0m                            Traceback (most recent call last)",
      "Cell \u001b[1;32mIn[42], line 1\u001b[0m\n\u001b[1;32m----> 1\u001b[0m \u001b[38;5;28;01mimport\u001b[39;00m\u001b[38;5;250m \u001b[39m\u001b[38;5;21;01mmatplotlib\u001b[39;00m\u001b[38;5;21;01m.\u001b[39;00m\u001b[38;5;21;01mpyplot\u001b[39;00m\u001b[38;5;250m \u001b[39m\u001b[38;5;28;01mas\u001b[39;00m\u001b[38;5;250m \u001b[39m\u001b[38;5;21;01mplt\u001b[39;00m\n\u001b[0;32m      2\u001b[0m \u001b[38;5;28;01mimport\u001b[39;00m\u001b[38;5;250m \u001b[39m\u001b[38;5;21;01msklearn\u001b[39;00m\u001b[38;5;21;01m.\u001b[39;00m\u001b[38;5;21;01mdecomposition\u001b[39;00m\u001b[38;5;250m \u001b[39m\u001b[38;5;28;01mas\u001b[39;00m\u001b[38;5;250m \u001b[39m\u001b[38;5;21;01mPCA\u001b[39;00m\n",
      "File \u001b[1;32mc:\\Users\\ADMIN\\anaconda3\\Lib\\site-packages\\matplotlib\\__init__.py:998\u001b[0m\n\u001b[0;32m    992\u001b[0m     _log\u001b[38;5;241m.\u001b[39mdebug(\u001b[38;5;124m'\u001b[39m\u001b[38;5;124mloaded rc file \u001b[39m\u001b[38;5;132;01m%s\u001b[39;00m\u001b[38;5;124m'\u001b[39m, fname)\n\u001b[0;32m    994\u001b[0m     \u001b[38;5;28;01mreturn\u001b[39;00m config\n\u001b[0;32m    997\u001b[0m rcParamsDefault \u001b[38;5;241m=\u001b[39m _rc_params_in_file(\n\u001b[1;32m--> 998\u001b[0m     cbook\u001b[38;5;241m.\u001b[39m_get_data_path(\u001b[38;5;124m\"\u001b[39m\u001b[38;5;124mmatplotlibrc\u001b[39m\u001b[38;5;124m\"\u001b[39m),\n\u001b[0;32m    999\u001b[0m     \u001b[38;5;66;03m# Strip leading comment.\u001b[39;00m\n\u001b[0;32m   1000\u001b[0m     transform\u001b[38;5;241m=\u001b[39m\u001b[38;5;28;01mlambda\u001b[39;00m line: line[\u001b[38;5;241m1\u001b[39m:] \u001b[38;5;28;01mif\u001b[39;00m line\u001b[38;5;241m.\u001b[39mstartswith(\u001b[38;5;124m\"\u001b[39m\u001b[38;5;124m#\u001b[39m\u001b[38;5;124m\"\u001b[39m) \u001b[38;5;28;01melse\u001b[39;00m line,\n\u001b[0;32m   1001\u001b[0m     fail_on_error\u001b[38;5;241m=\u001b[39m\u001b[38;5;28;01mTrue\u001b[39;00m)\n\u001b[0;32m   1002\u001b[0m rcParamsDefault\u001b[38;5;241m.\u001b[39m_update_raw(rcsetup\u001b[38;5;241m.\u001b[39m_hardcoded_defaults)\n\u001b[0;32m   1003\u001b[0m rcParamsDefault\u001b[38;5;241m.\u001b[39m_ensure_has_backend()\n",
      "File \u001b[1;32mc:\\Users\\ADMIN\\anaconda3\\Lib\\site-packages\\matplotlib\\cbook.py:603\u001b[0m, in \u001b[0;36m_get_data_path\u001b[1;34m(*args)\u001b[0m\n\u001b[0;32m    597\u001b[0m \u001b[38;5;28;01mdef\u001b[39;00m\u001b[38;5;250m \u001b[39m\u001b[38;5;21m_get_data_path\u001b[39m(\u001b[38;5;241m*\u001b[39margs):\n\u001b[0;32m    598\u001b[0m \u001b[38;5;250m    \u001b[39m\u001b[38;5;124;03m\"\"\"\u001b[39;00m\n\u001b[0;32m    599\u001b[0m \u001b[38;5;124;03m    Return the `pathlib.Path` to a resource file provided by Matplotlib.\u001b[39;00m\n\u001b[0;32m    600\u001b[0m \n\u001b[0;32m    601\u001b[0m \u001b[38;5;124;03m    ``*args`` specify a path relative to the base data path.\u001b[39;00m\n\u001b[0;32m    602\u001b[0m \u001b[38;5;124;03m    \"\"\"\u001b[39;00m\n\u001b[1;32m--> 603\u001b[0m     \u001b[38;5;28;01mreturn\u001b[39;00m Path(matplotlib\u001b[38;5;241m.\u001b[39mget_data_path(), \u001b[38;5;241m*\u001b[39margs)\n",
      "\u001b[1;31mAttributeError\u001b[0m: module 'matplotlib' has no attribute 'get_data_path'"
     ]
    }
   ],
   "source": [
    "import matplotlib.pyplot as plt\n",
    "import sklearn.decomposition as PCA"
   ]
  },
  {
   "cell_type": "code",
   "execution_count": null,
   "metadata": {},
   "outputs": [],
   "source": [
    "loss_history = []\n",
    "\n",
    "# Logistic loss function\n",
    "def logistic_loss(X, Y, theta):\n",
    "    z = Y * (X @ theta)\n",
    "    return np.mean(np.log(1 + np.exp(-z)))\n",
    "\n",
    "# SGD training\n",
    "for epoch in range(epochs):\n",
    "    for i in range(N):\n",
    "        xi = X[i]\n",
    "        yi = Y[i]\n",
    "        z = yi * np.dot(xi, theta)\n",
    "        grad = -yi * xi / (1 + np.exp(z))\n",
    "        theta -= lr * grad\n",
    "    # Record loss after each epoch\n",
    "    loss_history.append(logistic_loss(X, Y, theta))\n",
    "\n",
    "# ---- Plot loss curve ----\n",
    "plt.figure(figsize=(7, 4))\n",
    "plt.plot(range(1, epochs + 1), loss_history, marker='o')\n",
    "plt.title(\"Logistic Loss over Epochs\")\n",
    "plt.xlabel(\"Epoch\")\n",
    "plt.ylabel(\"Average Logistic Loss\")\n",
    "plt.grid(True)\n",
    "plt.tight_layout()\n",
    "plt.show()\n",
    "\n",
    "# ---- Visualize Decision Boundary (PCA to 2D) ----\n",
    "# Reduce X and theta to 2D\n",
    "pca = PCA(n_components=2)\n",
    "X_2D = pca.fit_transform(X)\n",
    "theta_2D = pca.components_ @ theta  # project θ to 2D\n",
    "\n",
    "# Plot\n",
    "plt.figure(figsize=(6, 6))\n",
    "for label in [-1, 1]:\n",
    "    plt.scatter(X_2D[Y == label, 0], X_2D[Y == label, 1], label=f\"Class {label}\", alpha=0.7)\n",
    "\n",
    "# Plot decision boundary: w^T x = 0 → line\n",
    "# (theta_2D ⋅ x) = 0 => x2 = -(w0/w1) * x1\n",
    "w0, w1 = theta_2D\n",
    "x_vals = np.linspace(X_2D[:, 0].min(), X_2D[:, 0].max(), 100)\n",
    "y_vals = -(w0 / w1) * x_vals\n",
    "plt.plot(x_vals, y_vals, 'k--', label='Decision Boundary')\n",
    "\n",
    "plt.legend()\n",
    "plt.title(\"Decision Boundary (after PCA to 2D)\")\n",
    "plt.xlabel(\"PC1\")\n",
    "plt.ylabel(\"PC2\")\n",
    "plt.grid(True)\n",
    "plt.tight_layout()\n",
    "plt.show()"
   ]
  }
 ],
 "metadata": {
  "kernelspec": {
   "display_name": "base",
   "language": "python",
   "name": "python3"
  },
  "language_info": {
   "codemirror_mode": {
    "name": "ipython",
    "version": 3
   },
   "file_extension": ".py",
   "mimetype": "text/x-python",
   "name": "python",
   "nbconvert_exporter": "python",
   "pygments_lexer": "ipython3",
   "version": "3.13.5"
  }
 },
 "nbformat": 4,
 "nbformat_minor": 4
}
