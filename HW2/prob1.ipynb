{
 "cells": [
  {
   "cell_type": "code",
   "execution_count": 2,
   "metadata": {},
   "outputs": [],
   "source": [
    "import numpy as np"
   ]
  },
  {
   "cell_type": "code",
   "execution_count": 13,
   "metadata": {},
   "outputs": [],
   "source": [
    "N, p = 30, 20\n",
    "np.random.seed(0)\n",
    "X = np.random.randn(N, p)\n",
    "Y = 2 * np.random.randint(2, size = N)"
   ]
  },
  {
   "cell_type": "code",
   "execution_count": 14,
   "metadata": {},
   "outputs": [
    {
     "data": {
      "text/plain": [
       "array([0., 0., 0., 0., 0., 0., 0., 0., 0., 0., 0., 0., 0., 0., 0., 0., 0.,\n",
       "       0., 0., 0.])"
      ]
     },
     "execution_count": 14,
     "metadata": {},
     "output_type": "execute_result"
    }
   ],
   "source": [
    "theta = np.zeros(p)"
   ]
  },
  {
   "cell_type": "code",
   "execution_count": 15,
   "metadata": {},
   "outputs": [],
   "source": [
    "epochs = 50\n",
    "learning_rate = 0.01"
   ]
  },
  {
   "cell_type": "code",
   "execution_count": 16,
   "metadata": {},
   "outputs": [],
   "source": [
    "for epoch in range(epochs):\n",
    "    for i in range(N):\n",
    "        xi = X[i]\n",
    "        yi = Y[i]\n",
    "        z = xi * np.dot(theta, xi)\n",
    "        gradient = - yi*xi/(1+np.exp(z))\n",
    "        theta -= learning_rate * gradient"
   ]
  },
  {
   "cell_type": "code",
   "execution_count": 17,
   "metadata": {},
   "outputs": [
    {
     "name": "stdout",
     "output_type": "stream",
     "text": [
      "Final theta: [-4.12687123 -3.46565899 -5.65019992 -0.47485657 -0.77416477 -2.31946696\n",
      " -5.67427725 -6.36489799 -2.28818559 -2.6667096  -1.65053314 -3.02158339\n",
      "  0.52306757 -4.83044173 -1.23128388  1.08602807 -4.40866063 -4.45777464\n",
      " -3.0569033  -0.22081924]\n",
      "Final loss: 3.462442155980545\n",
      "Final accuracy: 0.13333333333333333\n",
      "Final predictions: [0 0 1 1 0 0 0 1 1 1 0 1 1 1 0 1 1 1 1 1 0 1 1 1 0 1 1 1 0 1]\n"
     ]
    }
   ],
   "source": [
    "print(\"Final theta:\", theta)\n",
    "print(\"Final loss:\", np.mean(np.log(1 + np.exp(-Y * (X @ theta)))))\n",
    "print(\"Final accuracy:\", np.mean((X @ theta > 0) == Y))\n",
    "print(\"Final predictions:\", (X @ theta > 0).astype(int))"
   ]
  },
  {
   "cell_type": "code",
   "execution_count": null,
   "metadata": {},
   "outputs": [],
   "source": []
  }
 ],
 "metadata": {
  "kernelspec": {
   "display_name": "base",
   "language": "python",
   "name": "python3"
  },
  "language_info": {
   "codemirror_mode": {
    "name": "ipython",
    "version": 3
   },
   "file_extension": ".py",
   "mimetype": "text/x-python",
   "name": "python",
   "nbconvert_exporter": "python",
   "pygments_lexer": "ipython3",
   "version": "3.13.5"
  }
 },
 "nbformat": 4,
 "nbformat_minor": 4
}
